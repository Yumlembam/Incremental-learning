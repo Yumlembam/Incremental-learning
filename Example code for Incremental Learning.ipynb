{
 "cells": [
  {
   "cell_type": "markdown",
   "metadata": {},
   "source": [
    "## Below is just the code how to do Incremental Learning"
   ]
  },
  {
   "cell_type": "markdown",
   "metadata": {},
   "source": [
    "#### We are just providing a simple code to create a 1D convolutional neural network and do a staggered training. We have given example of how simple function of keras can help you to achieve your job to restart the training where you have left last time due to any issues like network disruption or instance termination etc"
   ]
  },
  {
   "cell_type": "markdown",
   "metadata": {},
   "source": [
    "Let's define the network and it's parameter first"
   ]
  },
  {
   "cell_type": "code",
   "execution_count": null,
   "metadata": {},
   "outputs": [],
   "source": [
    "LR = 0.001\n",
    "optimizer = RMSprop(lr=LR)\n",
    "CONV = [\n",
    "    {'filters':512, 'kernel':8, 'strides':1, 'padding':'same', 'reg': 0.0, 'pool':2},\n",
    "    {'filters':512, 'kernel':8, 'strides':1, 'padding':'same', 'reg': 0.0, 'pool':2},\n",
    "    {'filters':512, 'kernel':8, 'strides':1, 'padding':'same', 'reg': 0.0, 'pool':''}\n",
    "]"
   ]
  },
  {
   "cell_type": "code",
   "execution_count": null,
   "metadata": {},
   "outputs": [],
   "source": [
    "inputlayer = Input(shape=(400, 26))\n",
    "\n",
    "network = inputlayer\n",
    "\n",
    "for C in CONV:\n",
    "\n",
    "    # conv layer\n",
    "    network = Conv1D(filters=C['filters'], kernel_size=C['kernel'], \\\n",
    "                     strides=C['strides'], padding=C['padding'], activation='relu', \\\n",
    "                     kernel_regularizer=regularizers.l2(C['reg']))(network)\n",
    "\n",
    "    if type(C['pool']) != int:\n",
    "        continue\n",
    "\n",
    "    # pooling layer\n",
    "    network = MaxPooling1D(C['pool'])(network)\n",
    "\n",
    "# fully connected --------------\n",
    "# ------------------------------\n",
    "network = Flatten()(network)\n",
    "network = Dense(1024, activation='relu')(network)\n",
    "network = Dropout(0)(network)\n",
    "ypred = Dense(12, activation='softmax')(network)"
   ]
  },
  {
   "cell_type": "code",
   "execution_count": null,
   "metadata": {},
   "outputs": [],
   "source": [
    "model = Model(inputs=inputlayer, outputs=ypred)\n",
    "model.compile(loss='categorical_crossentropy',\n",
    "              optimizer=optimizer,\n",
    "              metrics=['acc'])"
   ]
  },
  {
   "cell_type": "markdown",
   "metadata": {},
   "source": [
    "Once the model is defined it's time to define check pints where we are putting a criteria if the validation accuracy is not improving for 10 epochs (Iteration) then the training would stop.\n",
    "\n",
    "\n",
    "We have a function that saves the model weights after each epoch if the validation loss decreased"
   ]
  },
  {
   "cell_type": "code",
   "execution_count": null,
   "metadata": {},
   "outputs": [],
   "source": [
    "\n",
    "estopping = EarlyStopping(monitor='val_acc', patience=10)\n",
    "checkpoint = ModelCheckpoint(filepath='model_0207', save_best_only=True) #saves the model weights after each epoch if the validation loss decreased"
   ]
  },
  {
   "cell_type": "markdown",
   "metadata": {},
   "source": [
    "Now let's start training without worring about connection termination or anyother issue:"
   ]
  },
  {
   "cell_type": "code",
   "execution_count": null,
   "metadata": {},
   "outputs": [],
   "source": [
    "for i in range(10):\n",
    "    \n",
    "    try:\n",
    "        hist = model.fit(X_train,\n",
    "                         y_train,\n",
    "                         validation_data=(X_test, y_test),\n",
    "                         epochs=100,\n",
    "                         batch_size=256,\n",
    "                         shuffle=False,\n",
    "                         verbose=2,\n",
    "                         callbacks=[checkpoint, estopping])\n",
    " \n",
    "    except KeyboardInterrupt:    \n",
    "        print(\"training terminated by user\")\n",
    "        \n",
    "    model.save('/content/MyModelSummary/ModelSummary/model.h5') # creates a HDF5 file 'my_model.h5'"
   ]
  },
  {
   "cell_type": "markdown",
   "metadata": {},
   "source": [
    "create a directory to save model summary in the mounted directory,this is where we save all the model specifications\n",
    "\n",
    "* the architecture of the model, allowing to re-create the model\n",
    "\n",
    "* the weights of the model\n",
    "* the training configuration (loss, optimizer)\n",
    "* the state of the optimizer, allowing to resume training exactly where you left off.\n",
    "\n",
    "      ---->model.save('/content/MyModelSummary/ModelSummary/model.h5')  # creates a HDF5 file 'my_model.h5'"
   ]
  },
  {
   "cell_type": "markdown",
   "metadata": {},
   "source": [
    "#### Now next time you want to start training you have already trained model with best weights till that time along with all other parameters"
   ]
  },
  {
   "cell_type": "code",
   "execution_count": null,
   "metadata": {},
   "outputs": [],
   "source": [
    "#From the next time,just load the model with the below lines and continue with your model execution\n",
    "from keras.models import load_model\n",
    "\n",
    "# returns a compiled model,identical to the previous run\n",
    "model_2 = load_model('/content/MyModelSummary/ModelSummary/model.h5')\n",
    "model_2.summary()"
   ]
  },
  {
   "cell_type": "code",
   "execution_count": null,
   "metadata": {},
   "outputs": [],
   "source": [
    "#We are running the model with previous check point \n",
    "try:\n",
    "    hist = model_2.fit(X_train,\n",
    "                     y_train,\n",
    "                     validation_data=(X_test, y_test),\n",
    "                     epochs=100,\n",
    "                     batch_size=256,\n",
    "                     shuffle=False,\n",
    "                     verbose=2,\n",
    "                     callbacks=[checkpoint, estopping, tensorboard])\n",
    " \n",
    "except KeyboardInterrupt:    \n",
    "    print(\"training terminated by user\")"
   ]
  }
 ],
 "metadata": {
  "kernelspec": {
   "display_name": "Python 3",
   "language": "python",
   "name": "python3"
  },
  "language_info": {
   "codemirror_mode": {
    "name": "ipython",
    "version": 3
   },
   "file_extension": ".py",
   "mimetype": "text/x-python",
   "name": "python",
   "nbconvert_exporter": "python",
   "pygments_lexer": "ipython3",
   "version": "3.5.4"
  }
 },
 "nbformat": 4,
 "nbformat_minor": 2
}
